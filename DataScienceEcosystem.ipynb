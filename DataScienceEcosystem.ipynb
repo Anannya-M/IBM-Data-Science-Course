{
 "cells": [
  {
   "cell_type": "markdown",
   "id": "ad4a8f81",
   "metadata": {},
   "source": [
    "# Data Science Tools and Ecosystem"
   ]
  },
  {
   "cell_type": "markdown",
   "id": "ca1e5021",
   "metadata": {},
   "source": [
    "## In this notebook, Data Science Tools and Ecosystem are summarized."
   ]
  },
  {
   "cell_type": "markdown",
   "id": "b89d97bd",
   "metadata": {},
   "source": [
    "### Some of the popular languages that Data Scientists use are:\n",
    "### 1.Python\n",
    "### 2. Java\n",
    "### 3. C++"
   ]
  },
  {
   "cell_type": "markdown",
   "id": "ab4fd599",
   "metadata": {},
   "source": [
    "### Some of the popular libraries that Data Scientists use are:\n",
    "## 1.Numpy\n",
    "### 2.Pandas\n",
    "### 3.Matplotlib"
   ]
  },
  {
   "cell_type": "markdown",
   "id": "35884c56",
   "metadata": {},
   "source": [
    "| Data Science Tools |\n",
    "|:------------------:|\n",
    "|      RStudio       | \n",
    "|    Apache Spark    |  \n",
    "|    Apache Hadoop   | "
   ]
  },
  {
   "cell_type": "markdown",
   "id": "8b2121d8",
   "metadata": {},
   "source": [
    "### Below are a few examples of evaluating arithmetic expressions in Python:"
   ]
  },
  {
   "cell_type": "code",
   "execution_count": 6,
   "id": "bbb09457",
   "metadata": {},
   "outputs": [
    {
     "name": "stdout",
     "output_type": "stream",
     "text": [
      "17\n"
     ]
    }
   ],
   "source": [
    "# This a simple arithmetic expression to mutiply then add integers\n",
    "result = (3 * 4) + 5\n",
    "\n",
    "#Prints the output\n",
    "print(result)"
   ]
  },
  {
   "cell_type": "code",
   "execution_count": 7,
   "id": "4015c0fd",
   "metadata": {},
   "outputs": [
    {
     "name": "stdout",
     "output_type": "stream",
     "text": [
      "3.3333333333333335\n"
     ]
    }
   ],
   "source": [
    "#This will convert 200 minutes to hours by diving by 60\n",
    "min = 200\n",
    "\n",
    "conversion = min / 60\n",
    "\n",
    "#Result after conversion\n",
    "print(conversion)"
   ]
  },
  {
   "cell_type": "markdown",
   "id": "f29d284c",
   "metadata": {},
   "source": [
    "# List popular languages for Data Science\n",
    " - Python\n",
    " - Java\n",
    " - C++"
   ]
  },
  {
   "cell_type": "markdown",
   "id": "4d0adf24",
   "metadata": {},
   "source": [
    "## Author\n",
    "Anannya Manojawas"
   ]
  }
 ],
 "metadata": {
  "kernelspec": {
   "display_name": "Python 3 (ipykernel)",
   "language": "python",
   "name": "python3"
  },
  "language_info": {
   "codemirror_mode": {
    "name": "ipython",
    "version": 3
   },
   "file_extension": ".py",
   "mimetype": "text/x-python",
   "name": "python",
   "nbconvert_exporter": "python",
   "pygments_lexer": "ipython3",
   "version": "3.10.9"
  }
 },
 "nbformat": 4,
 "nbformat_minor": 5
}
